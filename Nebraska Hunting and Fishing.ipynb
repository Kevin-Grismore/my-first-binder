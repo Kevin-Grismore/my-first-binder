{
 "cells": [
  {
   "cell_type": "markdown",
   "metadata": {},
   "source": [
    "## Import packages"
   ]
  },
  {
   "cell_type": "code",
   "execution_count": 1,
   "metadata": {},
   "outputs": [],
   "source": [
    "import pandas as pd"
   ]
  },
  {
   "cell_type": "markdown",
   "metadata": {
    "jupyter": {
     "source_hidden": true
    },
    "tags": []
   },
   "source": [
    "## Read in Antelope file\n",
    "Since all the fields with numbers are year or address data, we won't be doing any math. It's safe to read in everything as a string with [read_csv](https://pandas.pydata.org/pandas-docs/stable/reference/api/pandas.read_csv.html) option dtype."
   ]
  },
  {
   "cell_type": "code",
   "execution_count": null,
   "metadata": {},
   "outputs": [],
   "source": [
    "antelope = pd.read_csv(filename, sep='\\t', dtype=str)\n",
    "antelope.head()"
   ]
  },
  {
   "cell_type": "markdown",
   "metadata": {},
   "source": [
    "## Fix ZIP Codes\n",
    "Some of the zips in the source data are missing zeros at the start, like in row 155. A subset of rows can be selected with [iloc](https://pandas.pydata.org/pandas-docs/stable/reference/api/pandas.DataFrame.iloc.html)."
   ]
  },
  {
   "cell_type": "code",
   "execution_count": null,
   "metadata": {},
   "outputs": [],
   "source": [
    "antelope.iloc[[155]]"
   ]
  },
  {
   "cell_type": "markdown",
   "metadata": {},
   "source": [
    "To fix this we add zeros to the front of the string to make up the difference using [zfill](https://pandas.pydata.org/docs/reference/api/pandas.Series.str.zfill.html)."
   ]
  },
  {
   "cell_type": "code",
   "execution_count": null,
   "metadata": {},
   "outputs": [],
   "source": [
    "antelope['zip'] = antelope['zip'].str.zfill(5)\n",
    "antelope.iloc[[155]]"
   ]
  },
  {
   "cell_type": "markdown",
   "metadata": {},
   "source": [
    "## Title Case name and address\n",
    "Make all the name and address fields more readable"
   ]
  },
  {
   "cell_type": "code",
   "execution_count": null,
   "metadata": {},
   "outputs": [],
   "source": [
    "antelope['firstName'] = antelope['firstName'].str.title()\n",
    "antelope['middleName'] = antelope['middleName'].str.title()\n",
    "antelope['lastName'] = antelope['lastName'].str.title()\n",
    "antelope['city'] = antelope['city'].str.title()\n",
    "antelope['street'] = antelope['street'].str.title()\n",
    "antelope.head()"
   ]
  },
  {
   "cell_type": "markdown",
   "metadata": {},
   "source": [
    "## Add hunt and fish columns\n",
    "All data in this file is hunting, so 'Y' for hunt and '' for fish"
   ]
  },
  {
   "cell_type": "code",
   "execution_count": null,
   "metadata": {},
   "outputs": [],
   "source": [
    "antelope['hunt'] = 'Y'\n",
    "antelope['fish'] = ''\n",
    "antelope.head()"
   ]
  },
  {
   "cell_type": "markdown",
   "metadata": {},
   "source": [
    "## Replace NaNs with empty string\n",
    "Also handle blank space in names"
   ]
  },
  {
   "cell_type": "code",
   "execution_count": null,
   "metadata": {},
   "outputs": [],
   "source": [
    "antelope = antelope.fillna('')\n",
    "antelope = antelope.replace(' ','')\n",
    "antelope.head()"
   ]
  },
  {
   "cell_type": "markdown",
   "metadata": {},
   "source": [
    "## Drop Duplicate Records"
   ]
  },
  {
   "cell_type": "code",
   "execution_count": null,
   "metadata": {},
   "outputs": [],
   "source": [
    "antelope.shape"
   ]
  },
  {
   "cell_type": "code",
   "execution_count": null,
   "metadata": {},
   "outputs": [],
   "source": [
    "antelope.drop_duplicates(inplace=True)\n",
    "antelope.shape"
   ]
  },
  {
   "cell_type": "markdown",
   "metadata": {},
   "source": [
    "## Assign Record ID"
   ]
  },
  {
   "cell_type": "code",
   "execution_count": null,
   "metadata": {},
   "outputs": [],
   "source": [
    "antelope['RecordID'] = antelope.index + 1\n",
    "antelope.head()"
   ]
  },
  {
   "cell_type": "markdown",
   "metadata": {},
   "source": [
    "## Add Address 2 and Suffix columns\n",
    "to feed ExactTrack"
   ]
  },
  {
   "cell_type": "code",
   "execution_count": null,
   "metadata": {},
   "outputs": [],
   "source": [
    "antelope['addr2'] = ''\n",
    "antelope.head()"
   ]
  },
  {
   "cell_type": "markdown",
   "metadata": {},
   "source": [
    "## Reorder columns\n",
    "Using [reindex](https://pandas.pydata.org/docs/reference/api/pandas.DataFrame.reindex.html)"
   ]
  },
  {
   "cell_type": "code",
   "execution_count": null,
   "metadata": {},
   "outputs": [],
   "source": [
    "list(antelope.columns)"
   ]
  },
  {
   "cell_type": "code",
   "execution_count": null,
   "metadata": {},
   "outputs": [],
   "source": [
    "antelope = antelope.reindex(columns=['RecordID', 'permitYear', 'Permit Type', 'FullName', 'firstName', 'middleName', 'lastName', 'Suffix', 'street', 'addr2', 'city', 'state', 'zip', 'hunt', 'fish'])\n",
    "antelope.head()"
   ]
  }
 ],
 "metadata": {
  "kernelspec": {
   "display_name": "Python 3 (ipykernel)",
   "language": "python",
   "name": "python3"
  },
  "language_info": {
   "codemirror_mode": {
    "name": "ipython",
    "version": 3
   },
   "file_extension": ".py",
   "mimetype": "text/x-python",
   "name": "python",
   "nbconvert_exporter": "python",
   "pygments_lexer": "ipython3",
   "version": "3.7.10"
  }
 },
 "nbformat": 4,
 "nbformat_minor": 4
}
